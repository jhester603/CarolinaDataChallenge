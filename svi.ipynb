{
 "cells": [
  {
   "cell_type": "code",
   "execution_count": null,
   "id": "2bd98d9b",
   "metadata": {},
   "outputs": [],
   "source": [
    "# Libraries\n",
    "import sys \n",
    "import sklearn \n",
    "import pandas as pd \n",
    "import geopandas as gpd\n",
    "import os \n",
    "import tarfile \n",
    "import urllib \n",
    "import matplotlib as mpl \n",
    "import matplotlib.pyplot as plt\n",
    "import numpy as np\n",
    "from sklearn.metrics import mean_squared_error \n",
    "from sklearn.preprocessing import PolynomialFeatures\n",
    "from sklearn.ensemble import RandomForestRegressor\n",
    "from sklearn.metrics import mean_squared_error\n",
    "import sklearn.metrics as metrics\n",
    "from itertools import count "
   ]
  },
  {
   "cell_type": "code",
   "execution_count": null,
   "id": "8d61596d",
   "metadata": {},
   "outputs": [],
   "source": [
    "#load in hurricane data\n",
    "hur_id_n = pd.read_csv('/Users/christianabys/Desktop/School/Maryland/hackathon/hurricane_index.csv')"
   ]
  },
  {
   "cell_type": "code",
   "execution_count": null,
   "id": "1b0dc17c",
   "metadata": {},
   "outputs": [],
   "source": [
    "#normalize hurricane data\n",
    "hur_norm = hur_id.iloc[:, :9]\n",
    "for col in hur_norm:\n",
    "    hur_norm[col] = hur_norm[col].map(lambda x: x/hur_norm[col].max())\n",
    "hur_norm = hur_norm.drop(columns = ['FID'])\n",
    "hur_norm[\"FID\"] = hur_id['FID']"
   ]
  },
  {
   "cell_type": "code",
   "execution_count": null,
   "id": "dbeae517",
   "metadata": {},
   "outputs": [],
   "source": [
    "#calculate hurricane index \n",
    "hur_norm['hurricane_index'] = ((hur_norm['p1'] + hur_norm['p2'] + hur_norm['p3'] + hur_norm['p40'] \n",
    "                                + hur_norm['p75'] + hur_norm['p115']) +\n",
    "                                hur_norm['elevation_risk']) + hur_norm['prop_damage']"
   ]
  },
  {
   "cell_type": "code",
   "execution_count": null,
   "id": "dcf452a0",
   "metadata": {},
   "outputs": [],
   "source": [
    "#load in normalized dataset\n",
    "hur_norm = pd.read_csv('/Users/christianabys/Desktop/School/Maryland/hackathon/hur_norm.csv')"
   ]
  },
  {
   "cell_type": "code",
   "execution_count": null,
   "id": "34b0ea77",
   "metadata": {},
   "outputs": [],
   "source": [
    "#data processing and import svi data\n",
    "svi_g = gpd.read_file('/Users/christianabys/Downloads/xn--CDCs_Social_Vulnerability_Index_(SVI)__2014_overall_SVI,_census_tract_level_-_Wake_County-shp-zj43djp/Overall_2014_Tracts.shp')\n",
    "svi_g = svi_g[[\"FID\", \"ST_ABBR\", \"EP_POV\",\"EP_UNEMP\",\"EP_PCI\",\"EP_NOHSDP\",\"EP_AGE65\",\"EP_AGE17\",\"EP_DISABL\",\n",
    "           \"EP_SNGPNT\",\"EP_MINRTY\",\"EP_LIMENG\",\"EP_MUNIT\",\"EP_MOBILE\",\"EP_CROWD\",\n",
    "           \"EP_NOVEH\",\"EP_GROUPQ\",\"EP_UNINSUR\",\"RPL_THEMES\",\"geometry\"]]\n",
    "#remove -999 and drop na\n",
    "svi_g = svi_g[svi_g != -999]\n",
    "svi_g = svi_g.dropna()"
   ]
  },
  {
   "cell_type": "code",
   "execution_count": null,
   "id": "d5bb68c2",
   "metadata": {},
   "outputs": [],
   "source": [
    "#merge svi with hurricane index\n",
    "master = pd.merge(svi_g, hur_norm, on = 'FID')\n",
    "#set as geodataframe and set crs\n",
    "master = gpd.GeoDataFrame(master, geometry = 'geometry',crs = \"EPSG: 4326\")\n",
    "#calculate adj_svi_index\n",
    "master['adj_svi_index'] = (master['RPL_THEMES'] + master['hurricane_index'])/2"
   ]
  },
  {
   "cell_type": "code",
   "execution_count": null,
   "id": "1ab11ff5",
   "metadata": {},
   "outputs": [],
   "source": [
    "#modeling\n",
    "mpl.rc('axes', labelsize=14)\n",
    "mpl.rc('xtick', labelsize=12)\n",
    "mpl.rc('ytick', labelsize=12)\n",
    "#run either without hurricane data or with\n",
    "param = input('Run with hurricane index? (Yes or No): ')\n",
    "if param == 'Yes':\n",
    "    i = master[master['hurricane_index'] > 0].drop_duplicates('ST_ABBR')\n",
    "    m_list = i['ST_ABBR']\n",
    "    master = master.loc[master['ST_ABBR'].isin(m_list)]\n",
    "    #master_svi, select only variabes, leave out st_abbr and geometry\n",
    "    svi_tot = master[[\"FID\", \"EP_POV\",\"EP_UNEMP\",\"EP_PCI\",\"EP_NOHSDP\",\"EP_AGE65\",\"EP_AGE17\",\"EP_DISABL\",\n",
    "           \"EP_SNGPNT\",\"EP_MINRTY\",\"EP_LIMENG\",\"EP_MUNIT\",\"EP_MOBILE\",\"EP_CROWD\",\n",
    "           \"EP_NOVEH\",\"EP_GROUPQ\",\"EP_UNINSUR\",\"RPL_THEMES\",\"adj_svi_index\",\"hurr_index_0_1_adj\"]]\n",
    "    \n",
    "else:\n",
    "    svi_tot = master[[\"FID\", \"EP_POV\",\"EP_UNEMP\",\"EP_PCI\",\"EP_NOHSDP\",\"EP_AGE65\",\"EP_AGE17\",\"EP_DISABL\",\n",
    "           \"EP_SNGPNT\",\"EP_MINRTY\",\"EP_LIMENG\",\"EP_MUNIT\",\"EP_MOBILE\",\"EP_CROWD\",\n",
    "           \"EP_NOVEH\",\"EP_GROUPQ\",\"EP_UNINSUR\",\"RPL_THEMES\"]]\n",
    "    \n",
    "\n",
    "#set fid list\n",
    "fid = svi_tot[\"FID\"]\n",
    "svi = svi_tot.iloc[:, 1:]\n",
    "if param == 'Yes':\n",
    "    X = svi.drop(columns=[\"adj_svi_index\",'EP_UNINSUR','EP_AGE17','EP_AGE65'])\n",
    "    y = svi[\"adj_svi_index\"]\n",
    "else:\n",
    "    X = svi.drop(columns=[\"RPL_THEMES\",'EP_UNINSUR','EP_AGE17','EP_AGE65'])\n",
    "    y = svi['RPL_THEMES']\n",
    "#set interctions\n",
    "interaction = PolynomialFeatures(degree=2, interaction_only=True, include_bias=False)\n",
    "X1 = interaction.fit_transform(X)\n",
    "X = pd.DataFrame(X1)\n",
    "\n",
    "\n",
    "#PERFORMANCE MEASURES OF MODELS-------------------------------------------------\n",
    "def regression_results(y_true, y_pred):\n",
    "\n",
    "    # Regression metrics\n",
    "    explained_variance=metrics.explained_variance_score(y_true, y_pred)\n",
    "    mean_absolute_error=metrics.mean_absolute_error(y_true, y_pred)\n",
    "    mse=metrics.mean_squared_error(y_true, y_pred)\n",
    "    mean_squared_log_error=metrics.mean_squared_log_error(y_true, y_pred)\n",
    "    median_absolute_error=metrics.median_absolute_error(y_true, y_pred)\n",
    "    r2=metrics.r2_score(y_true, y_pred)\n",
    "    print('explained_variance: ', round(explained_variance,4))    \n",
    "    print('mean_squared_log_error: ', round(mean_squared_log_error,4))\n",
    "    print('r2: ', round(r2,4))\n",
    "    print('MAE: ', round(mean_absolute_error,4))\n",
    "    print('MSE: ', round(mse,4))\n",
    "    print('RMSE: ', round(np.sqrt(mse),4))\n",
    "\n",
    "X1 = X.drop(columns=[45,42,41,12,9,8,7,59,51,44,43,40,20,11,10,39,24,21,6,66,62,54,52,49,38,37,36,25,\n",
    "                                          5,3,0,83,32,23,14,90,73,70,65,58,50,48,22,19,86,71,35,31,85,78,18,17,1,72,69,67])\n",
    "#random forest regressor \n",
    "rf = RandomForestRegressor(n_estimators=20,random_state=(42))\n",
    "model_rf = rf.fit(X1, y)\n",
    "#run prediction\n",
    "preds = rf.predict(X1)\n",
    "regression_results(y, preds)"
   ]
  },
  {
   "cell_type": "code",
   "execution_count": null,
   "id": "5140bd68",
   "metadata": {},
   "outputs": [],
   "source": [
    "#turn to dataframe, add index and make FID column\n",
    "preds = pd.DataFrame(preds)\n",
    "fid = pd.DataFrame(fid).reset_index().drop(['index'],axis = 1)\n",
    "preds_fid = fid.join(preds)\n",
    "#rename column \n",
    "preds_fid = preds_fid.rename(columns = {0:'y_prediction'})\n",
    "master = pd.merge(master,preds_fid)\n",
    "master = master.rename(columns = {'y_prediction':'SVI Index (Predicted)'})"
   ]
  },
  {
   "cell_type": "code",
   "execution_count": null,
   "id": "ccbc1c59",
   "metadata": {},
   "outputs": [],
   "source": [
    "#autographer\n",
    "cont = master[(master['ST_ABBR']!= 'AK') & (master['ST_ABBR']!= 'HI')]\n",
    "#select state\n",
    "st = input('Select state via abbreviation i.e. AK = Alaska, NY = New York) ' \\\n",
    "           'or continental (cont) for Continental US)')\n",
    "\n",
    "val = input('Select a value to map (see examples): (SVI, hurricane_index)')\n",
    "if st == 'AK':\n",
    "    state = master[(master['ST_ABBR']=='AK')]\n",
    "    #reproject\n",
    "    state = state.to_crs(\"EPSG:3338\")\n",
    "elif st == 'HI':\n",
    "    state =  master[(master['ST_ABBR']=='HI')]\n",
    "    #reproject\n",
    "    state = state.to_crs(\"EPSG:3563\")\n",
    "elif st == 'cont':\n",
    "    state = master[(master['ST_ABBR']!= 'AK') & (master['ST_ABBR']!= 'HI')]\n",
    "else:\n",
    "    state = cont[cont['ST_ABBR']== st]\n",
    "fig,ax = plt.subplots(figsize=(14, 6))\n",
    "state.plot(val, scheme = 'Percentiles',ax = ax, alpha = 0.5, \n",
    "               k = 10, cmap = 'RdYlGn_r',legend = True)\n",
    "\n",
    "plt.axis('off')\n",
    "leg = ax.get_legend()\n",
    "leg.set_bbox_to_anchor((1.5,1))\n",
    "leg.set_title(val)\n",
    "plt.savefig('/Users/christianabys/Desktop/School/Maryland/hackathon/plots/SVI_Index_(Predicted)_LA.png')"
   ]
  }
 ],
 "metadata": {
  "kernelspec": {
   "display_name": "Python 3 (ipykernel)",
   "language": "python",
   "name": "python3"
  },
  "language_info": {
   "codemirror_mode": {
    "name": "ipython",
    "version": 3
   },
   "file_extension": ".py",
   "mimetype": "text/x-python",
   "name": "python",
   "nbconvert_exporter": "python",
   "pygments_lexer": "ipython3",
   "version": "3.9.13"
  }
 },
 "nbformat": 4,
 "nbformat_minor": 5
}
